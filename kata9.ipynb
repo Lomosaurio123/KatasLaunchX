{
 "cells": [
  {
   "cell_type": "markdown",
   "metadata": {},
   "source": [
    "## Funciones en Python "
   ]
  },
  {
   "cell_type": "code",
   "execution_count": 1,
   "metadata": {},
   "outputs": [],
   "source": [
    "def average(tank1,tank2,tank3):\n",
    "    average_r = (tank1+tank2+tank3)/3\n",
    "    return f'the average of the tanks is {average_r}'"
   ]
  },
  {
   "cell_type": "code",
   "execution_count": 2,
   "metadata": {},
   "outputs": [
    {
     "name": "stdout",
     "output_type": "stream",
     "text": [
      "the average of the tanks is 20.0\n"
     ]
    }
   ],
   "source": [
    "print(average(10,20,30))"
   ]
  },
  {
   "cell_type": "code",
   "execution_count": 6,
   "metadata": {},
   "outputs": [],
   "source": [
    "def averages(data):\n",
    "    result = sum(data)\n",
    "    items = len(data)\n",
    "    return result/items\n",
    "\n",
    "total = averages([10,20,30])"
   ]
  },
  {
   "cell_type": "code",
   "execution_count": 10,
   "metadata": {},
   "outputs": [
    {
     "name": "stdout",
     "output_type": "stream",
     "text": [
      "the average of the tanks is 2.0\n"
     ]
    }
   ],
   "source": [
    "def average(tank1,tank2,tank3):\n",
    "    return f'the average of the tanks is {averages([tank1,tank2,tank3])}'\n",
    "print(average(1,2,3))"
   ]
  },
  {
   "cell_type": "markdown",
   "metadata": {},
   "source": [
    "## Ejercicio 2 "
   ]
  },
  {
   "cell_type": "code",
   "execution_count": 11,
   "metadata": {},
   "outputs": [
    {
     "name": "stdout",
     "output_type": "stream",
     "text": [
      "\n",
      "    Mision : Luna\n",
      "    Tiempo de vuelo : 57\n",
      "    Combustible . 300\n",
      "    \n"
     ]
    }
   ],
   "source": [
    "# Función con un informe preciso de la misión. Considera hora de prelanzamiento, tiempo de vuelo, destino, tanque externo y tanque interno\n",
    "def informe(destino,hora_prelanzamiento,tiempo_vuelo,tanque_externo,tanque_interno):\n",
    "    return f\"\"\"\n",
    "    Mision : {destino}\n",
    "    Tiempo de vuelo : {hora_prelanzamiento+tiempo_vuelo}\n",
    "    Combustible . {tanque_externo+tanque_interno}\n",
    "    \"\"\"\n",
    "print(informe('Luna',12,45,100,200))"
   ]
  },
  {
   "cell_type": "code",
   "execution_count": 13,
   "metadata": {},
   "outputs": [
    {
     "name": "stdout",
     "output_type": "stream",
     "text": [
      "\n",
      "    Mision : Luna\n",
      "    Tiempo de vuelo : 6\n",
      "    Combustible . 500\n",
      "    \n"
     ]
    }
   ],
   "source": [
    "def informe(destino,*minutes,**fuel_reservoirs):\n",
    "    return f\"\"\"\n",
    "    Mision : {destino}\n",
    "    Tiempo de vuelo : {sum(minutes)}\n",
    "    Combustible . {sum(fuel_reservoirs.values())}\n",
    "    \"\"\"\n",
    "print(informe('Luna',1,2,3,principal=100,secundario=400))"
   ]
  },
  {
   "cell_type": "markdown",
   "metadata": {},
   "source": [
    "## Finalizamos la función "
   ]
  },
  {
   "cell_type": "code",
   "execution_count": 22,
   "metadata": {},
   "outputs": [
    {
     "name": "stdout",
     "output_type": "stream",
     "text": [
      "\n",
      "    Mision : Luna\n",
      "    Tiempo de vuelo : 6\n",
      "    Combustible . 700\n",
      "    tank: principal and fuel = 100 \n",
      "tank: secundario and fuel = 400 \n",
      "tank: tercero and fuel = 200 \n",
      "\n"
     ]
    }
   ],
   "source": [
    "def informe(destino,*minutes,**fuel_reservoirs):\n",
    "    report = f\"\"\"\n",
    "    Mision : {destino}\n",
    "    Tiempo de vuelo : {sum(minutes)}\n",
    "    Combustible . {sum(fuel_reservoirs.values())}\n",
    "    \"\"\"\n",
    "    for name_tank, fuel in fuel_reservoirs.items():\n",
    "        report += f'tank: {name_tank} and fuel = {fuel} \\n'\n",
    "    return report\n",
    "print(informe('Luna',1,2,3,principal=100,secundario=400, tercero = 200))"
   ]
  }
 ],
 "metadata": {
  "interpreter": {
   "hash": "f5ad4f06d84022338294a13f9a267eae312795fa0ed69a7aeaf9ce9d01088dc2"
  },
  "kernelspec": {
   "display_name": "Python 3.10.2 64-bit",
   "language": "python",
   "name": "python3"
  },
  "language_info": {
   "codemirror_mode": {
    "name": "ipython",
    "version": 3
   },
   "file_extension": ".py",
   "mimetype": "text/x-python",
   "name": "python",
   "nbconvert_exporter": "python",
   "pygments_lexer": "ipython3",
   "version": "3.10.2"
  },
  "orig_nbformat": 4
 },
 "nbformat": 4,
 "nbformat_minor": 2
}
