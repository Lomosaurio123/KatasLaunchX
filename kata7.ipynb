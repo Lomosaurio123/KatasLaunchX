{
 "cells": [
  {
   "cell_type": "markdown",
   "metadata": {},
   "source": [
    "## Crear lista de planetas con estructuras de control"
   ]
  },
  {
   "cell_type": "code",
   "execution_count": 1,
   "metadata": {},
   "outputs": [],
   "source": [
    "#declarar variables\n",
    "new_planet = ''\n",
    "planets = []"
   ]
  },
  {
   "cell_type": "code",
   "execution_count": 2,
   "metadata": {},
   "outputs": [],
   "source": [
    "#Realizamos el ciclo para agregar planetas, la condición para agregar planetas es la plabra done\n",
    "while new_planet.lower() != 'done': #Normalozar la entrada\n",
    "    if new_planet:\n",
    "        planets.append(new_planet) #Ayuda a evitar ingresar done\n",
    "    new_planet = input('Ingresa el planeta: ')"
   ]
  },
  {
   "cell_type": "markdown",
   "metadata": {},
   "source": [
    "## Recorrer y mostrar la lista de ejercicios"
   ]
  },
  {
   "cell_type": "code",
   "execution_count": 3,
   "metadata": {},
   "outputs": [
    {
     "name": "stdout",
     "output_type": "stream",
     "text": [
      "Tierra \n",
      "\n",
      "Marte \n",
      "\n",
      "Jupiter \n",
      "\n",
      "Saturno \n",
      "\n"
     ]
    }
   ],
   "source": [
    "for planet in planets:\n",
    "    print(planet,'\\n')"
   ]
  }
 ],
 "metadata": {
  "interpreter": {
   "hash": "f5ad4f06d84022338294a13f9a267eae312795fa0ed69a7aeaf9ce9d01088dc2"
  },
  "kernelspec": {
   "display_name": "Python 3.10.2 64-bit",
   "language": "python",
   "name": "python3"
  },
  "language_info": {
   "codemirror_mode": {
    "name": "ipython",
    "version": 3
   },
   "file_extension": ".py",
   "mimetype": "text/x-python",
   "name": "python",
   "nbconvert_exporter": "python",
   "pygments_lexer": "ipython3",
   "version": "3.10.2"
  },
  "orig_nbformat": 4
 },
 "nbformat": 4,
 "nbformat_minor": 2
}
