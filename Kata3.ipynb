{
 "cells": [
  {
   "cell_type": "code",
   "execution_count": 3,
   "metadata": {},
   "outputs": [
    {
     "name": "stdout",
     "output_type": "stream",
     "text": [
      "peligro de impacto\n"
     ]
    }
   ],
   "source": [
    "velocidad = 49\n",
    "if velocidad > 25:\n",
    "    print('peligro de impacto')\n",
    "else:\n",
    "    print('fuera de peligro')"
   ]
  },
  {
   "cell_type": "code",
   "execution_count": 4,
   "metadata": {},
   "outputs": [
    {
     "name": "stdout",
     "output_type": "stream",
     "text": [
      "no se visualiza nada de advertenca\n"
     ]
    }
   ],
   "source": [
    "velocidad_entrada = 19\n",
    "if velocidad_entrada > 20:\n",
    "    print('rayo de luz sobre la tierra')\n",
    "elif velocidad_entrada == 20:\n",
    "    print('rayo de luz sobre la tierra')\n",
    "else:\n",
    "    print('no se visualiza nada de advertenca')\n",
    "     "
   ]
  },
  {
   "cell_type": "code",
   "execution_count": 10,
   "metadata": {},
   "outputs": [
    {
     "name": "stdout",
     "output_type": "stream",
     "text": [
      "rayo de luz sobre la tierra\n"
     ]
    }
   ],
   "source": [
    "diametro = 25\n",
    "velocidad = 40\n",
    "##escribimos las condiciones planteadas\n",
    "if diametro > 25 and velocidad > 25:\n",
    "    print('peligro, un asteroide muy peligroso se acerca a la tierra')\n",
    "elif velocidad >= 20:\n",
    "    print('rayo de luz sobre la tierra')\n",
    "else:\n",
    "    print('fuera de peligro')"
   ]
  }
 ],
 "metadata": {
  "interpreter": {
   "hash": "f5ad4f06d84022338294a13f9a267eae312795fa0ed69a7aeaf9ce9d01088dc2"
  },
  "kernelspec": {
   "display_name": "Python 3.10.2 64-bit",
   "language": "python",
   "name": "python3"
  },
  "language_info": {
   "codemirror_mode": {
    "name": "ipython",
    "version": 3
   },
   "file_extension": ".py",
   "mimetype": "text/x-python",
   "name": "python",
   "nbconvert_exporter": "python",
   "pygments_lexer": "ipython3",
   "version": "3.10.2"
  },
  "orig_nbformat": 4
 },
 "nbformat": 4,
 "nbformat_minor": 2
}
