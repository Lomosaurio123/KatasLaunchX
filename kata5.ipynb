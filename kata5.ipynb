{
 "cells": [
  {
   "cell_type": "markdown",
   "metadata": {},
   "source": [
    "## Calcular la distancia entre planetas"
   ]
  },
  {
   "cell_type": "code",
   "execution_count": 2,
   "metadata": {},
   "outputs": [],
   "source": [
    "distancia_tierra = 149597870 \n",
    "distancia_jupiter = 778547200"
   ]
  },
  {
   "cell_type": "code",
   "execution_count": 4,
   "metadata": {},
   "outputs": [
    {
     "name": "stdout",
     "output_type": "stream",
     "text": [
      "628949330\n",
      "La distancia en millas es de 390577533.93\n"
     ]
    }
   ],
   "source": [
    "distancia_jt = abs(distancia_tierra-distancia_jupiter)\n",
    "print(distancia_jt)\n",
    "distancia_mi = distancia_jt * 0.621\n",
    "print(f'La distancia en millas es de {distancia_mi}')"
   ]
  },
  {
   "cell_type": "markdown",
   "metadata": {},
   "source": [
    "## Conversion de cadenas a enteros y el valor absoluto"
   ]
  },
  {
   "cell_type": "code",
   "execution_count": 5,
   "metadata": {},
   "outputs": [],
   "source": [
    "planeta_uno = input('¿Cual es la distancia del primer planeta?')\n",
    "planeta_dos = input('¿Cual es la distancia del segundo planeta?')"
   ]
  },
  {
   "cell_type": "code",
   "execution_count": 6,
   "metadata": {},
   "outputs": [],
   "source": [
    "#Convertimos a int\n",
    "planeta_uno = int(planeta_uno)\n",
    "planeta_dos = int(planeta_dos)"
   ]
  },
  {
   "cell_type": "code",
   "execution_count": 7,
   "metadata": {},
   "outputs": [
    {
     "name": "stdout",
     "output_type": "stream",
     "text": [
      "La distancia entre los planetas es de: 50300000\n",
      "La distancias en millas es de: 31236300.0\n"
     ]
    }
   ],
   "source": [
    "#Calculamos distancias y conversión a millas \n",
    "distancias = abs(planeta_dos-planeta_uno)\n",
    "print(f'La distancia entre los planetas es de: {distancias}')\n",
    "distancias_millas = distancias * 0.621\n",
    "print(f'La distancias en millas es de: {distancias_millas}')"
   ]
  }
 ],
 "metadata": {
  "interpreter": {
   "hash": "f5ad4f06d84022338294a13f9a267eae312795fa0ed69a7aeaf9ce9d01088dc2"
  },
  "kernelspec": {
   "display_name": "Python 3.10.2 64-bit",
   "language": "python",
   "name": "python3"
  },
  "language_info": {
   "codemirror_mode": {
    "name": "ipython",
    "version": 3
   },
   "file_extension": ".py",
   "mimetype": "text/x-python",
   "name": "python",
   "nbconvert_exporter": "python",
   "pygments_lexer": "ipython3",
   "version": "3.10.2"
  },
  "orig_nbformat": 4
 },
 "nbformat": 4,
 "nbformat_minor": 2
}
